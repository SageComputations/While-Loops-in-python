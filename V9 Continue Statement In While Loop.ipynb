{
 "cells": [
  {
   "cell_type": "code",
   "execution_count": 1,
   "id": "54d5c2a8",
   "metadata": {},
   "outputs": [
    {
     "name": "stdout",
     "output_type": "stream",
     "text": [
      "odd number : 1\n",
      "odd number : 3\n",
      "odd number : 5\n",
      "odd number : 7\n",
      "odd number : 9\n",
      "good bye!\n"
     ]
    }
   ],
   "source": [
    "num = 0\n",
    "\n",
    "while num < 10:\n",
    "    \n",
    "    num = num+1\n",
    "    \n",
    "    if num % 2 == 0:\n",
    "        continue\n",
    "        \n",
    "    print(\"odd number :\", num)\n",
    "    \n",
    "print('good bye!')"
   ]
  },
  {
   "cell_type": "code",
   "execution_count": 2,
   "id": "ac395dee",
   "metadata": {},
   "outputs": [
    {
     "name": "stdout",
     "output_type": "stream",
     "text": [
      "[1, 2, 3, 4, 6, 8, 9, 11, 12, 13, 16, 17, 18, 19, 22, 23, 24, 26, 27, 29, 31, 32, 33, 34, 36, 37, 38, 39, 41, 43, 44, 46, 47, 48]\n"
     ]
    }
   ],
   "source": [
    "my_list = []\n",
    "num = 0\n",
    "\n",
    "while num in range(0, 50):\n",
    "    \n",
    "    num += 1\n",
    "    \n",
    "    if num % 5 == 0 or num % 7 == 0:\n",
    "        continue\n",
    "        \n",
    "    my_list.append(num)\n",
    "    \n",
    "print(my_list)"
   ]
  },
  {
   "cell_type": "code",
   "execution_count": 4,
   "id": "926b3336",
   "metadata": {},
   "outputs": [
    {
     "name": "stdout",
     "output_type": "stream",
     "text": [
      "\n",
      "Enter a number: hello\n",
      "Enter integers only (continue statement executed)\n",
      "\n",
      "Enter a number: 2\n",
      "Cube of 2 is 8\n",
      "\n",
      "Enter a number: out\n",
      "Good bye! (break statement executed)\n"
     ]
    }
   ],
   "source": [
    "while True:\n",
    "    \n",
    "    value = input(\"\\nEnter a number: \")\n",
    "    \n",
    "    if value == 'out':\n",
    "        print('Good bye! (break statement executed)')\n",
    "        break\n",
    "        \n",
    "    if not value.isdigit(): #if input is not a digit move on to the next iteration\n",
    "        print('Enter integers only (continue statement executed)')\n",
    "        continue\n",
    "        \n",
    "    value = int(value)\n",
    "    print(\"Cube of %d is %d\" %(value, value ** 3))"
   ]
  },
  {
   "cell_type": "code",
   "execution_count": null,
   "id": "e5c12d67",
   "metadata": {},
   "outputs": [],
   "source": []
  }
 ],
 "metadata": {
  "kernelspec": {
   "display_name": "Python 3 (ipykernel)",
   "language": "python",
   "name": "python3"
  },
  "language_info": {
   "codemirror_mode": {
    "name": "ipython",
    "version": 3
   },
   "file_extension": ".py",
   "mimetype": "text/x-python",
   "name": "python",
   "nbconvert_exporter": "python",
   "pygments_lexer": "ipython3",
   "version": "3.9.12"
  }
 },
 "nbformat": 4,
 "nbformat_minor": 5
}
