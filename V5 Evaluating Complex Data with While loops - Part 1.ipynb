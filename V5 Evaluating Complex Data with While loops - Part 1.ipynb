{
 "cells": [
  {
   "cell_type": "code",
   "execution_count": 1,
   "id": "9a124e02",
   "metadata": {},
   "outputs": [],
   "source": [
    "num_list = [20,30,40,50,60]"
   ]
  },
  {
   "cell_type": "code",
   "execution_count": 2,
   "id": "314170db",
   "metadata": {},
   "outputs": [
    {
     "name": "stdout",
     "output_type": "stream",
     "text": [
      "20\n",
      "30\n",
      "40\n",
      "50\n",
      "60\n"
     ]
    }
   ],
   "source": [
    "count = 0\n",
    "\n",
    "while count < len(num_list):\n",
    "    \n",
    "    print(num_list[count])\n",
    "    \n",
    "    count = count + 1"
   ]
  },
  {
   "cell_type": "code",
   "execution_count": 3,
   "id": "d288e8e1",
   "metadata": {},
   "outputs": [
    {
     "name": "stdout",
     "output_type": "stream",
     "text": [
      "there are 5 elements in the list\n"
     ]
    }
   ],
   "source": [
    "count = 0\n",
    "\n",
    "while count < len(num_list):\n",
    "    \n",
    "    count = count +1\n",
    "    \n",
    "print('there are %d elements in the list' %count)"
   ]
  },
  {
   "cell_type": "code",
   "execution_count": 4,
   "id": "8ea5ed28",
   "metadata": {},
   "outputs": [
    {
     "name": "stdout",
     "output_type": "stream",
     "text": [
      "20\n",
      "50\n",
      "90\n",
      "140\n",
      "200\n",
      "Sum of all elements in the list : 200\n"
     ]
    }
   ],
   "source": [
    "total = 0\n",
    "element = 0\n",
    "\n",
    "while element < len(num_list):\n",
    "    \n",
    "    total = total + num_list[element]\n",
    "    \n",
    "    print(total)\n",
    "    \n",
    "    element += 1\n",
    "    \n",
    "print(\"Sum of all elements in the list :\", total)"
   ]
  },
  {
   "cell_type": "code",
   "execution_count": 5,
   "id": "1108778b",
   "metadata": {},
   "outputs": [
    {
     "name": "stdout",
     "output_type": "stream",
     "text": [
      "20\n",
      "50\n",
      "90\n",
      "140\n",
      "200\n",
      "Sum of all the elements in the list : 200\n"
     ]
    }
   ],
   "source": [
    "total = 0\n",
    "element = 0\n",
    "\n",
    "for element in num_list:\n",
    "    \n",
    "    total += element\n",
    "    \n",
    "    print(total)\n",
    "    \n",
    "print(\"Sum of all the elements in the list :\",total)"
   ]
  },
  {
   "cell_type": "code",
   "execution_count": 6,
   "id": "c312ad6d",
   "metadata": {},
   "outputs": [],
   "source": [
    "smartphone_brands = ['Samsung','Huawei','Apple',\n",
    "                    'Nokia','Oneplus','Vivo','Sony']"
   ]
  },
  {
   "cell_type": "code",
   "execution_count": 7,
   "id": "ede6f554",
   "metadata": {},
   "outputs": [
    {
     "name": "stdout",
     "output_type": "stream",
     "text": [
      "Samsung\n",
      "Huawei\n",
      "Apple\n",
      "Nokia\n",
      "Oneplus\n",
      "Vivo\n",
      "Sony\n"
     ]
    },
    {
     "ename": "IndexError",
     "evalue": "list index out of range",
     "output_type": "error",
     "traceback": [
      "\u001b[1;31m---------------------------------------------------------------------------\u001b[0m",
      "\u001b[1;31mIndexError\u001b[0m                                Traceback (most recent call last)",
      "Input \u001b[1;32mIn [7]\u001b[0m, in \u001b[0;36m<cell line: 3>\u001b[1;34m()\u001b[0m\n\u001b[0;32m      1\u001b[0m count \u001b[38;5;241m=\u001b[39m \u001b[38;5;241m0\u001b[39m\n\u001b[0;32m      3\u001b[0m \u001b[38;5;28;01mwhile\u001b[39;00m count \u001b[38;5;241m<\u001b[39m \u001b[38;5;241m10\u001b[39m:\n\u001b[1;32m----> 4\u001b[0m     \u001b[38;5;28mprint\u001b[39m(\u001b[43msmartphone_brands\u001b[49m\u001b[43m[\u001b[49m\u001b[43mcount\u001b[49m\u001b[43m]\u001b[49m)\n\u001b[0;32m      6\u001b[0m     count \u001b[38;5;241m=\u001b[39m count \u001b[38;5;241m+\u001b[39m \u001b[38;5;241m1\u001b[39m\n",
      "\u001b[1;31mIndexError\u001b[0m: list index out of range"
     ]
    }
   ],
   "source": [
    "count = 0\n",
    "\n",
    "while count < 10:\n",
    "    print(smartphone_brands[count])\n",
    "    \n",
    "    count = count + 1"
   ]
  },
  {
   "cell_type": "code",
   "execution_count": 8,
   "id": "dd136149",
   "metadata": {},
   "outputs": [
    {
     "data": {
      "text/plain": [
       "7"
      ]
     },
     "execution_count": 8,
     "metadata": {},
     "output_type": "execute_result"
    }
   ],
   "source": [
    "len(smartphone_brands)"
   ]
  },
  {
   "cell_type": "code",
   "execution_count": 9,
   "id": "3b9e8b66",
   "metadata": {},
   "outputs": [
    {
     "name": "stdout",
     "output_type": "stream",
     "text": [
      "Samsung\n",
      "Huawei\n",
      "Apple\n",
      "Nokia\n",
      "Oneplus\n",
      "Vivo\n",
      "Sony\n"
     ]
    }
   ],
   "source": [
    "count = 0\n",
    "\n",
    "while count < len(smartphone_brands):\n",
    "    print(smartphone_brands[count])\n",
    "    \n",
    "    count = count + 1"
   ]
  },
  {
   "cell_type": "code",
   "execution_count": 10,
   "id": "0984dfb5",
   "metadata": {},
   "outputs": [
    {
     "name": "stdout",
     "output_type": "stream",
     "text": [
      "Samsung\n",
      "Apple\n",
      "Oneplus\n",
      "Sony\n"
     ]
    }
   ],
   "source": [
    "count = 0\n",
    "\n",
    "while count < len(smartphone_brands):\n",
    "    print(smartphone_brands[count])\n",
    "    \n",
    "    count = count + 2"
   ]
  },
  {
   "cell_type": "code",
   "execution_count": null,
   "id": "5240fea2",
   "metadata": {},
   "outputs": [],
   "source": []
  }
 ],
 "metadata": {
  "kernelspec": {
   "display_name": "Python 3 (ipykernel)",
   "language": "python",
   "name": "python3"
  },
  "language_info": {
   "codemirror_mode": {
    "name": "ipython",
    "version": 3
   },
   "file_extension": ".py",
   "mimetype": "text/x-python",
   "name": "python",
   "nbconvert_exporter": "python",
   "pygments_lexer": "ipython3",
   "version": "3.9.12"
  }
 },
 "nbformat": 4,
 "nbformat_minor": 5
}
