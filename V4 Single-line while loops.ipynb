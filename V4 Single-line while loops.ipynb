{
 "cells": [
  {
   "cell_type": "code",
   "execution_count": 1,
   "id": "23b73c9b",
   "metadata": {},
   "outputs": [
    {
     "name": "stdout",
     "output_type": "stream",
     "text": [
      "0\n",
      "1\n",
      "2\n",
      "3\n",
      "4\n",
      "5\n",
      "6\n",
      "7\n",
      "8\n",
      "9\n"
     ]
    }
   ],
   "source": [
    "num = 0\n",
    "\n",
    "while num in range(0,10):\n",
    "    print(num)\n",
    "    \n",
    "    num = num + 1"
   ]
  },
  {
   "cell_type": "markdown",
   "id": "204eff23",
   "metadata": {},
   "source": [
    "# For loops increment takes place automatically but in case of while loops we need to define them explicitly"
   ]
  },
  {
   "cell_type": "code",
   "execution_count": 2,
   "id": "1fe81f50",
   "metadata": {},
   "outputs": [
    {
     "name": "stdout",
     "output_type": "stream",
     "text": [
      "even number:  0\n",
      "even number:  2\n",
      "even number:  4\n",
      "even number:  6\n",
      "even number:  8\n"
     ]
    }
   ],
   "source": [
    "num = 0\n",
    "\n",
    "while num in range(0,10):\n",
    "    \n",
    "    if num % 2 == 0:\n",
    "        print('even number: ',num)\n",
    "        \n",
    "    num = num +1"
   ]
  },
  {
   "cell_type": "code",
   "execution_count": 5,
   "id": "4b933470",
   "metadata": {},
   "outputs": [
    {
     "name": "stdout",
     "output_type": "stream",
     "text": [
      "Enter an integer: 10000000\n",
      "number of digits:  8\n"
     ]
    }
   ],
   "source": [
    "value_int = int(input(\"Enter an integer: \"))\n",
    "\n",
    "length = 0\n",
    "\n",
    "while value_int > 0:\n",
    "    \n",
    "    value_int //= 10\n",
    "    \n",
    "    length += 1\n",
    "    \n",
    "print('number of digits: ',length)"
   ]
  },
  {
   "cell_type": "code",
   "execution_count": 6,
   "id": "f5ddd699",
   "metadata": {},
   "outputs": [],
   "source": [
    "x,y = 0,8"
   ]
  },
  {
   "cell_type": "code",
   "execution_count": 7,
   "id": "7632ed38",
   "metadata": {},
   "outputs": [
    {
     "name": "stdout",
     "output_type": "stream",
     "text": [
      "1\n",
      "2\n",
      "3\n",
      "4\n",
      "5\n",
      "6\n",
      "7\n",
      "8\n"
     ]
    }
   ],
   "source": [
    "while(x<y): x = x+1; print(x) #semi colon (;) is used as a separator between the lines."
   ]
  },
  {
   "cell_type": "code",
   "execution_count": 8,
   "id": "5b73c1a9",
   "metadata": {},
   "outputs": [
    {
     "name": "stdout",
     "output_type": "stream",
     "text": [
      "1 1\n",
      "1 2\n",
      "1 3\n",
      "1 4\n",
      "2 1\n",
      "2 2\n",
      "2 3\n",
      "2 4\n",
      "3 1\n",
      "3 2\n",
      "3 3\n",
      "3 4\n",
      "4 1\n",
      "4 2\n",
      "4 3\n",
      "4 4\n"
     ]
    }
   ],
   "source": [
    "x = 1\n",
    "\n",
    "while x <5:\n",
    "    \n",
    "    y = 1\n",
    "    \n",
    "    while y < 5:\n",
    "        print(x,y)\n",
    "        y = y+1\n",
    "        \n",
    "    x = x+1"
   ]
  },
  {
   "cell_type": "code",
   "execution_count": null,
   "id": "c0071f3e",
   "metadata": {},
   "outputs": [],
   "source": []
  }
 ],
 "metadata": {
  "kernelspec": {
   "display_name": "Python 3 (ipykernel)",
   "language": "python",
   "name": "python3"
  },
  "language_info": {
   "codemirror_mode": {
    "name": "ipython",
    "version": 3
   },
   "file_extension": ".py",
   "mimetype": "text/x-python",
   "name": "python",
   "nbconvert_exporter": "python",
   "pygments_lexer": "ipython3",
   "version": "3.9.12"
  }
 },
 "nbformat": 4,
 "nbformat_minor": 5
}
