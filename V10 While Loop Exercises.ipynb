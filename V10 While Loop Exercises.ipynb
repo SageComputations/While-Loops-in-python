{
 "cells": [
  {
   "cell_type": "markdown",
   "id": "499ada22",
   "metadata": {},
   "source": [
    "# Q1. Compare for and while loops"
   ]
  },
  {
   "cell_type": "markdown",
   "id": "dca0ceca",
   "metadata": {},
   "source": [
    "# Both are used to run sections of code repeatedly\n",
    "# .While\n",
    "### Loop until a condition is satisfied\n",
    "### Used when number of iterations is not known up front\n",
    "\n",
    "# .For\n",
    "### iterate over a sequence of values\n",
    "### used when we have an iterable object of a known length\n",
    "### an iterable object can be defined with range() function"
   ]
  },
  {
   "cell_type": "code",
   "execution_count": null,
   "id": "78b04f29",
   "metadata": {},
   "outputs": [],
   "source": []
  },
  {
   "cell_type": "markdown",
   "id": "661aca3d",
   "metadata": {},
   "source": [
    "# Q2. Write code to repeatedly prompt the user for the capital of Egypt until\n",
    "### a. They enter the correct value(Cairo)\n",
    "### b. They give up and enter 'quit'"
   ]
  },
  {
   "cell_type": "code",
   "execution_count": null,
   "id": "e2ebe271",
   "metadata": {},
   "outputs": [],
   "source": [
    "response = \"\"\n",
    "\n",
    "while True:\n",
    "    \n",
    "    response = input(\"\\nWhat is the capital of Egypt? \")\n",
    "    \n",
    "    if response == 'quit':\n",
    "        print(\"The correct answer is Cairo. Better luck next time!\")\n",
    "        break\n",
    "        \n",
    "    if response.upper() == \"CAIRO\":\n",
    "        print(\"That is the correct answer!\")\n",
    "        break\n",
    "    else:\n",
    "        print(\"That is not the correct answer. Try again.....\")"
   ]
  },
  {
   "cell_type": "code",
   "execution_count": null,
   "id": "095e5c84",
   "metadata": {},
   "outputs": [],
   "source": []
  },
  {
   "cell_type": "code",
   "execution_count": null,
   "id": "6ecdad7e",
   "metadata": {},
   "outputs": [],
   "source": []
  }
 ],
 "metadata": {
  "kernelspec": {
   "display_name": "Python 3 (ipykernel)",
   "language": "python",
   "name": "python3"
  },
  "language_info": {
   "codemirror_mode": {
    "name": "ipython",
    "version": 3
   },
   "file_extension": ".py",
   "mimetype": "text/x-python",
   "name": "python",
   "nbconvert_exporter": "python",
   "pygments_lexer": "ipython3",
   "version": "3.9.12"
  }
 },
 "nbformat": 4,
 "nbformat_minor": 5
}
