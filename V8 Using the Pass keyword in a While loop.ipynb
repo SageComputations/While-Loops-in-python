{
 "cells": [
  {
   "cell_type": "code",
   "execution_count": 1,
   "id": "59fb07c5",
   "metadata": {},
   "outputs": [],
   "source": [
    "clean_haystack = [\"hay\",\"hay\",\"hay\",\"hay\",\n",
    "                 \"hay\",\"hay\",\"hay\",\"hay\"]\n",
    "\n",
    "unclean_haystack = [\"hay\",\"hay\",\"hay\",\"hay\",\n",
    "                 \"hay\",\"needle\",\"hay\",\"hay\"]\n",
    "\n",
    "searching_for = \"needle\""
   ]
  },
  {
   "cell_type": "code",
   "execution_count": 2,
   "id": "8b0988df",
   "metadata": {},
   "outputs": [
    {
     "name": "stdout",
     "output_type": "stream",
     "text": [
      "\n",
      "The needle was not found :(\n"
     ]
    }
   ],
   "source": [
    "maximum = len(clean_haystack)\n",
    "\n",
    "i = 0\n",
    "\n",
    "while i < maximum:\n",
    "    \n",
    "    if searching_for == clean_haystack[i]:\n",
    "        print(\"The %s is at index %i:\" % (searching_for, i))\n",
    "        \n",
    "        del clean_haystack[i]\n",
    "        break\n",
    "        \n",
    "    i = i+1\n",
    "    \n",
    "else:\n",
    "    print(\"\\nThe needle was not found :(\")"
   ]
  },
  {
   "cell_type": "code",
   "execution_count": 6,
   "id": "bc0c950d",
   "metadata": {},
   "outputs": [
    {
     "name": "stdout",
     "output_type": "stream",
     "text": [
      "The needle is at index 5:\n",
      "The updated haystack is: ['hay', 'hay', 'hay', 'hay', 'hay', 'hay', 'hay']\n"
     ]
    }
   ],
   "source": [
    "maximum = len(unclean_haystack)\n",
    "\n",
    "i = 0\n",
    "\n",
    "while i < maximum:\n",
    "    \n",
    "    if searching_for == unclean_haystack[i]:\n",
    "        print(\"The %s is at index %i:\" % (searching_for, i))\n",
    "        \n",
    "        del unclean_haystack[i]\n",
    "        print('The updated haystack is:', unclean_haystack)\n",
    "        break\n",
    "        \n",
    "    i = i+1\n",
    "    \n",
    "else:\n",
    "    print(\"\\nThe needle was not found :(\")"
   ]
  },
  {
   "cell_type": "code",
   "execution_count": 9,
   "id": "b03c5f55",
   "metadata": {},
   "outputs": [
    {
     "name": "stdout",
     "output_type": "stream",
     "text": [
      "enter an integer: 100\n",
      "prime numbers upto 100: \n",
      "2\n",
      "3\n",
      "5\n",
      "7\n",
      "11\n",
      "13\n",
      "17\n",
      "19\n",
      "23\n",
      "29\n",
      "31\n",
      "37\n",
      "41\n",
      "43\n",
      "47\n",
      "53\n",
      "59\n",
      "61\n",
      "67\n",
      "71\n",
      "73\n",
      "79\n",
      "83\n",
      "89\n",
      "97\n"
     ]
    }
   ],
   "source": [
    "#Print out all the prime numbers upto a given value\n",
    "\n",
    "max_num = int(input('enter an integer: '))\n",
    "num = 2\n",
    "\n",
    "print(\"prime numbers upto %i: \"% max_num)\n",
    "\n",
    "while num < max_num + 1:\n",
    "    \n",
    "    isPrime = True\n",
    "    count = 2\n",
    "    \n",
    "    while count < num:\n",
    "        if num % count == 0:\n",
    "            isPrime = False\n",
    "            break\n",
    "            \n",
    "        count += 1\n",
    "        \n",
    "    if isPrime:\n",
    "        print(num)\n",
    "        \n",
    "    num += 1"
   ]
  },
  {
   "cell_type": "code",
   "execution_count": 10,
   "id": "becb258f",
   "metadata": {},
   "outputs": [
    {
     "name": "stdout",
     "output_type": "stream",
     "text": [
      "current value is : 10\n",
      "current value is : 9\n",
      "current value is : 8\n",
      "current value is : 7\n",
      "current value is : 6\n",
      "current value is : 5\n",
      "this is a pass block\n",
      "current value is : 4\n",
      "current value is : 3\n",
      "current value is : 2\n",
      "current value is : 1\n",
      "good bye!\n"
     ]
    }
   ],
   "source": [
    "num_value = 10\n",
    "\n",
    "while num_value > 0:\n",
    "    print(\"current value is :\", num_value)\n",
    "    \n",
    "    if num_value == 5:\n",
    "        pass\n",
    "        print('this is a pass block')\n",
    "        \n",
    "    num_value = num_value - 1\n",
    "    \n",
    "print('good bye!')"
   ]
  },
  {
   "cell_type": "code",
   "execution_count": 11,
   "id": "e2eded3c",
   "metadata": {},
   "outputs": [],
   "source": [
    "#pass signifies no operation needs to be performed at that point, even when inside the while loop it doesn't have any effect on the functioning of the code"
   ]
  },
  {
   "cell_type": "code",
   "execution_count": 12,
   "id": "69b123d2",
   "metadata": {},
   "outputs": [
    {
     "name": "stdout",
     "output_type": "stream",
     "text": [
      "Enter a number: 10\n",
      "current value is : 10\n",
      "current value is : 9\n",
      "current value is : 8\n",
      "current value is : 4\n",
      "current value is : 3\n",
      "current value is : 2\n",
      "current value is : 1\n",
      "good bye!\n"
     ]
    }
   ],
   "source": [
    "num_value = int(input(\"Enter a number: \"))\n",
    "\n",
    "while num_value > 0:\n",
    "    \n",
    "    if num_value < 8 and num_value > 4:\n",
    "        pass\n",
    "    else:\n",
    "        print('current value is :',num_value)\n",
    "        \n",
    "    num_value = num_value - 1\n",
    "    \n",
    "else:\n",
    "    print(\"good bye!\")"
   ]
  },
  {
   "cell_type": "code",
   "execution_count": null,
   "id": "f56abef4",
   "metadata": {},
   "outputs": [],
   "source": []
  }
 ],
 "metadata": {
  "kernelspec": {
   "display_name": "Python 3 (ipykernel)",
   "language": "python",
   "name": "python3"
  },
  "language_info": {
   "codemirror_mode": {
    "name": "ipython",
    "version": 3
   },
   "file_extension": ".py",
   "mimetype": "text/x-python",
   "name": "python",
   "nbconvert_exporter": "python",
   "pygments_lexer": "ipython3",
   "version": "3.9.12"
  }
 },
 "nbformat": 4,
 "nbformat_minor": 5
}
