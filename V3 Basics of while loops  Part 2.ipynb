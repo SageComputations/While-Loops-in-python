{
 "cells": [
  {
   "cell_type": "code",
   "execution_count": 1,
   "id": "a200177c",
   "metadata": {},
   "outputs": [
    {
     "name": "stdout",
     "output_type": "stream",
     "text": [
      "Thomas is an amazing soccer player\n"
     ]
    }
   ],
   "source": [
    "name = \"Thomas\"\n",
    "\n",
    "while name == \"Thomas\":\n",
    "    \n",
    "    print(\"%s is an amazing soccer player\" % name)\n",
    "    \n",
    "    name = \"Kingsley\""
   ]
  },
  {
   "cell_type": "code",
   "execution_count": 3,
   "id": "ab6b2b86",
   "metadata": {},
   "outputs": [
    {
     "name": "stdout",
     "output_type": "stream",
     "text": [
      "password: hello\n",
      "password: hi\n",
      "password: python\n",
      "password: ron@95\n",
      "password: Ron@95\n",
      "\n",
      "Access Granted\n"
     ]
    }
   ],
   "source": [
    "user_password = \" \"\n",
    "\n",
    "while user_password != \"Ron@95\":\n",
    "    user_password = input(\"password: \")\n",
    "    \n",
    "print(\"\\nAccess Granted\")"
   ]
  },
  {
   "cell_type": "code",
   "execution_count": 4,
   "id": "7805bc0e",
   "metadata": {},
   "outputs": [
    {
     "name": "stdout",
     "output_type": "stream",
     "text": [
      "1\n",
      "4\n",
      "9\n",
      "16\n",
      "25\n",
      "36\n",
      "49\n",
      "64\n",
      "81\n",
      "100\n"
     ]
    }
   ],
   "source": [
    "num = 1\n",
    "\n",
    "while num <= 10:\n",
    "    \n",
    "    print(num ** 2)\n",
    "    \n",
    "    num += 1"
   ]
  },
  {
   "cell_type": "code",
   "execution_count": 7,
   "id": "6f8d313a",
   "metadata": {},
   "outputs": [
    {
     "name": "stdout",
     "output_type": "stream",
     "text": [
      "enter a number: 5\n",
      "enter a name: Subscribe Now\n",
      "1 : Subscribe Now\n",
      "2 : Subscribe Now\n",
      "3 : Subscribe Now\n",
      "4 : Subscribe Now\n",
      "5 : Subscribe Now\n"
     ]
    }
   ],
   "source": [
    "num_value = int(input(\"enter a number: \"))\n",
    "name = input(\"enter a name: \")\n",
    "\n",
    "count = 1\n",
    "\n",
    "while count <= num_value:\n",
    "    \n",
    "    print(count,\":\", name)\n",
    "    \n",
    "    count = count + 1"
   ]
  },
  {
   "cell_type": "code",
   "execution_count": null,
   "id": "80a00690",
   "metadata": {},
   "outputs": [],
   "source": []
  }
 ],
 "metadata": {
  "kernelspec": {
   "display_name": "Python 3 (ipykernel)",
   "language": "python",
   "name": "python3"
  },
  "language_info": {
   "codemirror_mode": {
    "name": "ipython",
    "version": 3
   },
   "file_extension": ".py",
   "mimetype": "text/x-python",
   "name": "python",
   "nbconvert_exporter": "python",
   "pygments_lexer": "ipython3",
   "version": "3.9.12"
  }
 },
 "nbformat": 4,
 "nbformat_minor": 5
}
