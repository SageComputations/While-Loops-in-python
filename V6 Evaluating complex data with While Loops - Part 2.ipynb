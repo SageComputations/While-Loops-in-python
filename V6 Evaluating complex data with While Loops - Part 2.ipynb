{
 "cells": [
  {
   "cell_type": "code",
   "execution_count": 1,
   "id": "0daebf41",
   "metadata": {},
   "outputs": [],
   "source": [
    "even_list = []\n",
    "odd_list = []\n",
    "num = 0\n",
    "\n",
    "while num <= 50:\n",
    "    \n",
    "    if num % 2 == 0:\n",
    "        even_list.append(num)\n",
    "        \n",
    "    else:\n",
    "        odd_list.append(num)\n",
    "        \n",
    "    num += 1"
   ]
  },
  {
   "cell_type": "code",
   "execution_count": 4,
   "id": "8afd01a3",
   "metadata": {},
   "outputs": [
    {
     "name": "stdout",
     "output_type": "stream",
     "text": [
      "[0, 2, 4, 6, 8, 10, 12, 14, 16, 18, 20, 22, 24, 26, 28, 30, 32, 34, 36, 38, 40, 42, 44, 46, 48, 50]\n"
     ]
    }
   ],
   "source": [
    "print(even_list)"
   ]
  },
  {
   "cell_type": "code",
   "execution_count": 5,
   "id": "1c3bdb8d",
   "metadata": {},
   "outputs": [
    {
     "name": "stdout",
     "output_type": "stream",
     "text": [
      "[1, 3, 5, 7, 9, 11, 13, 15, 17, 19, 21, 23, 25, 27, 29, 31, 33, 35, 37, 39, 41, 43, 45, 47, 49]\n"
     ]
    }
   ],
   "source": [
    "print(odd_list)"
   ]
  },
  {
   "cell_type": "code",
   "execution_count": 7,
   "id": "1862c54d",
   "metadata": {},
   "outputs": [
    {
     "name": "stdout",
     "output_type": "stream",
     "text": [
      "   C    F\n",
      "  -20  -4.0\n",
      "  -15   5.0\n",
      "  -10  14.0\n",
      "   -5  23.0\n",
      "    0  32.0\n",
      "    5  41.0\n",
      "   10  50.0\n",
      "   15  59.0\n",
      "   20  68.0\n",
      "   25  77.0\n",
      "   30  86.0\n",
      "   35  95.0\n",
      "   40 104.0\n"
     ]
    }
   ],
   "source": [
    "c_degrees = [-20,-15,-10,-5,0,5,10,15,20,25,30,35,40]\n",
    "index = 0\n",
    "\n",
    "print('   C    F')\n",
    "\n",
    "while index < len(c_degrees):\n",
    "    \n",
    "    C = c_degrees[index]\n",
    "    F = (9.0/5)*C + 32\n",
    "    \n",
    "    print( '%5d %5.1f' % (C,F))\n",
    "    \n",
    "    index += 1"
   ]
  },
  {
   "cell_type": "code",
   "execution_count": 8,
   "id": "4c71d5c5",
   "metadata": {},
   "outputs": [],
   "source": [
    "name_list = ['William','James','Olive','Jessie','Liam']\n",
    "\n",
    "age_list = [22,26,24,28,21]"
   ]
  },
  {
   "cell_type": "code",
   "execution_count": 9,
   "id": "6ec4dc9a",
   "metadata": {},
   "outputs": [
    {
     "name": "stdout",
     "output_type": "stream",
     "text": [
      "William is 22 years old\n",
      "James is 26 years old\n",
      "Olive is 24 years old\n",
      "Jessie is 28 years old\n",
      "Liam is 21 years old\n"
     ]
    }
   ],
   "source": [
    "index = 0\n",
    "\n",
    "while index < len(name_list):\n",
    "    \n",
    "    print(name_list[index],'is',age_list[index],'years old')\n",
    "    \n",
    "    index = index + 1"
   ]
  },
  {
   "cell_type": "code",
   "execution_count": 10,
   "id": "28880e4a",
   "metadata": {},
   "outputs": [
    {
     "name": "stdout",
     "output_type": "stream",
     "text": [
      "a\n",
      "b\n",
      "c\n",
      "d\n",
      "e\n",
      "f\n",
      "g\n",
      "h\n"
     ]
    }
   ],
   "source": [
    "alpha_tuple = ('a','b','c','d','e','f','g','h')\n",
    "count = 0\n",
    "\n",
    "while count < 8:\n",
    "    \n",
    "    print(alpha_tuple[count])\n",
    "    \n",
    "    count = count + 1"
   ]
  },
  {
   "cell_type": "code",
   "execution_count": 11,
   "id": "6f1c049a",
   "metadata": {},
   "outputs": [],
   "source": [
    "character_name = ('Missandei','Samwell','Jorah','Brienne','Margaery')"
   ]
  },
  {
   "cell_type": "code",
   "execution_count": 13,
   "id": "6d308bee",
   "metadata": {},
   "outputs": [
    {
     "name": "stdout",
     "output_type": "stream",
     "text": [
      "the longest name in the tuple is:  Missandei\n"
     ]
    }
   ],
   "source": [
    "long_name = character_name[0]\n",
    "index = 0\n",
    "\n",
    "while index < len(character_name):\n",
    "    \n",
    "    if len(long_name) < len(character_name[index]):\n",
    "        \n",
    "        long_name = character_name[index]\n",
    "        \n",
    "    index = index + 1\n",
    "    \n",
    "print('the longest name in the tuple is: ',long_name)"
   ]
  },
  {
   "cell_type": "code",
   "execution_count": null,
   "id": "bf9f459e",
   "metadata": {},
   "outputs": [],
   "source": []
  }
 ],
 "metadata": {
  "kernelspec": {
   "display_name": "Python 3 (ipykernel)",
   "language": "python",
   "name": "python3"
  },
  "language_info": {
   "codemirror_mode": {
    "name": "ipython",
    "version": 3
   },
   "file_extension": ".py",
   "mimetype": "text/x-python",
   "name": "python",
   "nbconvert_exporter": "python",
   "pygments_lexer": "ipython3",
   "version": "3.9.12"
  }
 },
 "nbformat": 4,
 "nbformat_minor": 5
}
